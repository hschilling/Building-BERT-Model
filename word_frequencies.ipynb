{
  "nbformat": 4,
  "nbformat_minor": 0,
  "metadata": {
    "colab": {
      "name": "word_frequencies.ipynb",
      "provenance": [],
      "authorship_tag": "ABX9TyNIgkzD7W3h4mUdsiEr9F6+",
      "include_colab_link": true
    },
    "kernelspec": {
      "name": "python3",
      "display_name": "Python 3"
    }
  },
  "cells": [
    {
      "cell_type": "markdown",
      "metadata": {
        "id": "view-in-github",
        "colab_type": "text"
      },
      "source": [
        "<a href=\"https://colab.research.google.com/github/vizzies/Building-BERT-Model/blob/master/word_frequencies.ipynb\" target=\"_parent\"><img src=\"https://colab.research.google.com/assets/colab-badge.svg\" alt=\"Open In Colab\"/></a>"
      ]
    },
    {
      "cell_type": "code",
      "metadata": {
        "id": "KYxLsxB28c-K",
        "colab_type": "code",
        "colab": {}
      },
      "source": [
        "import pandas\n",
        "import unicodedata\n",
        "\n",
        "def preprocess_text(sen):\n",
        "\n",
        "    sentence = str(sen)\n",
        "\n",
        "    # Removing html tags\n",
        "    sentence = remove_tags(sentence)\n",
        "\n",
        "    # Remove hyphenation if at the end of a line\n",
        "    sentence = sentence.replace('-\\n', '')\n",
        "\n",
        "    # Fix ligatures\n",
        "    sentence = unicodedata.normalize(\"NFKD\", sentence)\n",
        "\n",
        "    # Remove punctuations and numbers\n",
        "    sentence = re.sub('[^a-zA-Z]', ' ', sentence)\n",
        "\n",
        "    # Single character removal\n",
        "    sentence = re.sub(r\"\\s+[a-zA-Z]\\s+\", ' ', sentence)\n",
        "\n",
        "    # Removing multiple spaces\n",
        "    sentence = re.sub(r'\\s+', ' ', sentence)\n",
        "\n",
        "    return sentence\n",
        "\n",
        "import re\n",
        "TAG_RE = re.compile(r'<[^>]+>')\n",
        "\n",
        "def remove_tags(text):\n",
        "    return TAG_RE.sub('', text)\n"
      ],
      "execution_count": null,
      "outputs": []
    },
    {
      "cell_type": "code",
      "metadata": {
        "id": "eLvcJTTR_JIn",
        "colab_type": "code",
        "colab": {}
      },
      "source": [
        "\n",
        "pubs = pandas.read_pickle('/content/arc-code-ti-publications.pkl')\n",
        "\n",
        "word_count = {}\n",
        "sentences = list(pubs['Text'])\n",
        "for sen in sentences:\n",
        "\n",
        "  words = preprocess_text(sen).split()\n",
        "    for word in words:\n",
        "        if word in word_count:\n",
        "            word_count[word] += 1\n",
        "        else:\n",
        "            word_count[word] = 1\n",
        "\n",
        "sort_orders = sorted(orders.items(), key=lambda x: x[1], reverse=True)\n",
        "\n",
        "for i in sort_orders:\n",
        "\tprint(i[0], i[1])"
      ],
      "execution_count": null,
      "outputs": []
    }
  ]
}