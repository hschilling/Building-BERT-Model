{
  "nbformat": 4,
  "nbformat_minor": 0,
  "metadata": {
    "colab": {
      "name": "text_to_df.ipynb",
      "provenance": [],
      "authorship_tag": "ABX9TyMXHZhBgSm+18FtB74xT9G+",
      "include_colab_link": true
    },
    "kernelspec": {
      "name": "python3",
      "display_name": "Python 3"
    }
  },
  "cells": [
    {
      "cell_type": "markdown",
      "metadata": {
        "id": "view-in-github",
        "colab_type": "text"
      },
      "source": [
        "<a href=\"https://colab.research.google.com/github/vizzies/Building-BERT-Model/blob/master/text_to_df.ipynb\" target=\"_parent\"><img src=\"https://colab.research.google.com/assets/colab-badge.svg\" alt=\"Open In Colab\"/></a>"
      ]
    },
    {
      "cell_type": "code",
      "metadata": {
        "id": "v1IvXHnroRNc",
        "colab_type": "code",
        "colab": {
          "base_uri": "https://localhost:8080/",
          "height": 654
        },
        "outputId": "ca4f8d86-a556-4a7f-d4a0-21968ddf5e84"
      },
      "source": [
        "import pandas\n",
        "import unicodedata\n",
        "\n",
        "def preprocess_text(sen):\n",
        "\n",
        "    sentence = str(sen)\n",
        "\n",
        "    # Removing html tags\n",
        "    sentence = remove_tags(sentence)\n",
        "\n",
        "    # Remove hyphenation if at the end of a line\n",
        "    sentence = sentence.replace('-\\n', '')\n",
        "\n",
        "    # Fix ligatures\n",
        "    sentence = unicodedata.normalize(\"NFKD\", sentence)\n",
        "\n",
        "    # Remove punctuations and numbers\n",
        "    sentence = re.sub('[^a-zA-Z]', ' ', sentence)\n",
        "\n",
        "    # Single character removal\n",
        "    sentence = re.sub(r\"\\s+[a-zA-Z]\\s+\", ' ', sentence)\n",
        "\n",
        "    # Removing multiple spaces\n",
        "    sentence = re.sub(r'\\s+', ' ', sentence)\n",
        "\n",
        "    return sentence\n",
        "\n",
        "import re\n",
        "TAG_RE = re.compile(r'<[^>]+>')\n",
        "\n",
        "def remove_tags(text):\n",
        "    return TAG_RE.sub('', text)\n",
        "\n",
        "pubs = pandas.read_pickle('/content/arc-code-ti-publications.pkl')\n",
        "\n",
        "pubs.drop(pubs[pubs['Text'] == 'PDF error occurred'].index, inplace = True) \n",
        "\n",
        "pubs.drop_duplicates(subset=['Text'])\n",
        "\n",
        "pubs['Text Processed'] = pubs.apply(lambda row: preprocess_text(row['Text']), axis=1)\n",
        "\n",
        "text_df = pubs[['Text Processed',]].copy()\n",
        "\n",
        "print(pubs.columns)\n",
        "pubs.head()\n"
      ],
      "execution_count": 18,
      "outputs": [
        {
          "output_type": "stream",
          "text": [
            "Index(['Link', 'Text', 'Info', 'Abstract', 'Abstract Length', 'Title',\n",
            "       'Authors', 'Publisher', 'Date', 'Text Processed'],\n",
            "      dtype='object')\n"
          ],
          "name": "stdout"
        },
        {
          "output_type": "execute_result",
          "data": {
            "text/html": [
              "<div>\n",
              "<style scoped>\n",
              "    .dataframe tbody tr th:only-of-type {\n",
              "        vertical-align: middle;\n",
              "    }\n",
              "\n",
              "    .dataframe tbody tr th {\n",
              "        vertical-align: top;\n",
              "    }\n",
              "\n",
              "    .dataframe thead th {\n",
              "        text-align: right;\n",
              "    }\n",
              "</style>\n",
              "<table border=\"1\" class=\"dataframe\">\n",
              "  <thead>\n",
              "    <tr style=\"text-align: right;\">\n",
              "      <th></th>\n",
              "      <th>Link</th>\n",
              "      <th>Text</th>\n",
              "      <th>Info</th>\n",
              "      <th>Abstract</th>\n",
              "      <th>Abstract Length</th>\n",
              "      <th>Title</th>\n",
              "      <th>Authors</th>\n",
              "      <th>Publisher</th>\n",
              "      <th>Date</th>\n",
              "      <th>Text Processed</th>\n",
              "    </tr>\n",
              "    <tr>\n",
              "      <th>Index</th>\n",
              "      <th></th>\n",
              "      <th></th>\n",
              "      <th></th>\n",
              "      <th></th>\n",
              "      <th></th>\n",
              "      <th></th>\n",
              "      <th></th>\n",
              "      <th></th>\n",
              "      <th></th>\n",
              "      <th></th>\n",
              "    </tr>\n",
              "  </thead>\n",
              "  <tbody>\n",
              "    <tr>\n",
              "      <th>0</th>\n",
              "      <td>http://ti.arc.nasa.gov/publications/78540/down...</td>\n",
              "      <td>Adaptive Stress Testing of Trajectory Predicti...</td>\n",
              "      <td>['\\n', 'Adaptive Stress Testing of Trajectory ...</td>\n",
              "      <td>\\n\\n \\nA primary component of flight managemen...</td>\n",
              "      <td>1412</td>\n",
              "      <td>Adaptive Stress Testing of Trajectory Predicti...</td>\n",
              "      <td>Ritchie Lee,Robert Moss,Mykel Kochenderfer</td>\n",
              "      <td>Published at: Conference: 39th digital Avionic...</td>\n",
              "      <td>10/13/20</td>\n",
              "      <td>Adaptive Stress Testing of Trajectory Predicti...</td>\n",
              "    </tr>\n",
              "    <tr>\n",
              "      <th>1</th>\n",
              "      <td>http://ti.arc.nasa.gov/publications/2020500198...</td>\n",
              "      <td>Capturing &amp; Analyzing Requirements with FRET\\n...</td>\n",
              "      <td>['\\n', 'Capturing &amp; Analyzing Requirements wit...</td>\n",
              "      <td>\\n\\n§ Exceeding sensor limits shall latch an a...</td>\n",
              "      <td>378</td>\n",
              "      <td>Capturing &amp; Analyzing Requirements with FRET</td>\n",
              "      <td>Dimitra Giannakopoulou</td>\n",
              "      <td>Published at: Presentation; NASA SWS technical...</td>\n",
              "      <td>05/08/20</td>\n",
              "      <td>Capturing Analyzing Requirements with FRET Dim...</td>\n",
              "    </tr>\n",
              "    <tr>\n",
              "      <th>3</th>\n",
              "      <td>http://ti.arc.nasa.gov/publications/2020500043...</td>\n",
              "      <td>The Ten Lockheed Martin Cyber-Physical\\n\\nChal...</td>\n",
              "      <td>['\\n', 'The Ten Lockheed Martin Cyber-Physical...</td>\n",
              "      <td>\\n\\nAbstract—Capturing and analyzing requireme...</td>\n",
              "      <td>1226</td>\n",
              "      <td>The Ten Lockheed Martin Cyber-Physical Challen...</td>\n",
              "      <td>Anastasia Mavridou,Hamza Bourbouh,Dimitra Gian...</td>\n",
              "      <td>Published at: Conference Paper; 28th IEEE Inte...</td>\n",
              "      <td>04/16/20</td>\n",
              "      <td>The Ten Lockheed Martin Cyber Physical Challen...</td>\n",
              "    </tr>\n",
              "    <tr>\n",
              "      <th>4</th>\n",
              "      <td>http://ti.arc.nasa.gov/publications/77781/down...</td>\n",
              "      <td>Generation of Formal Requirements from\\n\\nStru...</td>\n",
              "      <td>['\\n', 'Generation of Formal Requirements from...</td>\n",
              "      <td>error</td>\n",
              "      <td>5</td>\n",
              "      <td>Generation of Formal Requirements from Structu...</td>\n",
              "      <td>Dimitra Giannakopoulou,Tom Pressburger,Anastas...</td>\n",
              "      <td>Published at: Conference: 26th REFSQ-2020; Pis...</td>\n",
              "      <td>03/24/20</td>\n",
              "      <td>Generation of Formal Requirements from Structu...</td>\n",
              "    </tr>\n",
              "    <tr>\n",
              "      <th>5</th>\n",
              "      <td>http://ti.arc.nasa.gov/publications/77785/down...</td>\n",
              "      <td>Formal Requirements Elicitation with FRET\\n\\nD...</td>\n",
              "      <td>['\\n', 'Formal Requirements Elicitation with F...</td>\n",
              "      <td>\\n\\nAbstract. FRET is a tool for writing, unde...</td>\n",
              "      <td>759</td>\n",
              "      <td>Formal Requirements Elicitation with FRET</td>\n",
              "      <td>Anastasia Mavridou,Dimitra Giannakopoulou,Tom ...</td>\n",
              "      <td>Published at: Conference: 26th REFSQ-2020; Pis...</td>\n",
              "      <td>03/24/20</td>\n",
              "      <td>Formal Requirements Elicitation with FRET Dimi...</td>\n",
              "    </tr>\n",
              "  </tbody>\n",
              "</table>\n",
              "</div>"
            ],
            "text/plain": [
              "                                                    Link  ...                                     Text Processed\n",
              "Index                                                     ...                                                   \n",
              "0      http://ti.arc.nasa.gov/publications/78540/down...  ...  Adaptive Stress Testing of Trajectory Predicti...\n",
              "1      http://ti.arc.nasa.gov/publications/2020500198...  ...  Capturing Analyzing Requirements with FRET Dim...\n",
              "3      http://ti.arc.nasa.gov/publications/2020500043...  ...  The Ten Lockheed Martin Cyber Physical Challen...\n",
              "4      http://ti.arc.nasa.gov/publications/77781/down...  ...  Generation of Formal Requirements from Structu...\n",
              "5      http://ti.arc.nasa.gov/publications/77785/down...  ...  Formal Requirements Elicitation with FRET Dimi...\n",
              "\n",
              "[5 rows x 10 columns]"
            ]
          },
          "metadata": {
            "tags": []
          },
          "execution_count": 18
        }
      ]
    },
    {
      "cell_type": "code",
      "metadata": {
        "id": "3f-H2VEVpd3r",
        "colab_type": "code",
        "colab": {
          "base_uri": "https://localhost:8080/",
          "height": 238
        },
        "outputId": "a77b4233-889b-4d03-e02e-00c4dd181b04"
      },
      "source": [
        "text_df.head()"
      ],
      "execution_count": 19,
      "outputs": [
        {
          "output_type": "execute_result",
          "data": {
            "text/html": [
              "<div>\n",
              "<style scoped>\n",
              "    .dataframe tbody tr th:only-of-type {\n",
              "        vertical-align: middle;\n",
              "    }\n",
              "\n",
              "    .dataframe tbody tr th {\n",
              "        vertical-align: top;\n",
              "    }\n",
              "\n",
              "    .dataframe thead th {\n",
              "        text-align: right;\n",
              "    }\n",
              "</style>\n",
              "<table border=\"1\" class=\"dataframe\">\n",
              "  <thead>\n",
              "    <tr style=\"text-align: right;\">\n",
              "      <th></th>\n",
              "      <th>Text Processed</th>\n",
              "    </tr>\n",
              "    <tr>\n",
              "      <th>Index</th>\n",
              "      <th></th>\n",
              "    </tr>\n",
              "  </thead>\n",
              "  <tbody>\n",
              "    <tr>\n",
              "      <th>0</th>\n",
              "      <td>Adaptive Stress Testing of Trajectory Predicti...</td>\n",
              "    </tr>\n",
              "    <tr>\n",
              "      <th>1</th>\n",
              "      <td>Capturing Analyzing Requirements with FRET Dim...</td>\n",
              "    </tr>\n",
              "    <tr>\n",
              "      <th>3</th>\n",
              "      <td>The Ten Lockheed Martin Cyber Physical Challen...</td>\n",
              "    </tr>\n",
              "    <tr>\n",
              "      <th>4</th>\n",
              "      <td>Generation of Formal Requirements from Structu...</td>\n",
              "    </tr>\n",
              "    <tr>\n",
              "      <th>5</th>\n",
              "      <td>Formal Requirements Elicitation with FRET Dimi...</td>\n",
              "    </tr>\n",
              "  </tbody>\n",
              "</table>\n",
              "</div>"
            ],
            "text/plain": [
              "                                          Text Processed\n",
              "Index                                                   \n",
              "0      Adaptive Stress Testing of Trajectory Predicti...\n",
              "1      Capturing Analyzing Requirements with FRET Dim...\n",
              "3      The Ten Lockheed Martin Cyber Physical Challen...\n",
              "4      Generation of Formal Requirements from Structu...\n",
              "5      Formal Requirements Elicitation with FRET Dimi..."
            ]
          },
          "metadata": {
            "tags": []
          },
          "execution_count": 19
        }
      ]
    },
    {
      "cell_type": "code",
      "metadata": {
        "id": "wCgpMaXo1e0Q",
        "colab_type": "code",
        "colab": {
          "base_uri": "https://localhost:8080/",
          "height": 156
        },
        "outputId": "5c6e281e-27f3-4a9b-dee7-33fd91af68d2"
      },
      "source": [
        "text_df.info()"
      ],
      "execution_count": 20,
      "outputs": [
        {
          "output_type": "stream",
          "text": [
            "<class 'pandas.core.frame.DataFrame'>\n",
            "Index: 666 entries, 0 to 673\n",
            "Data columns (total 1 columns):\n",
            " #   Column          Non-Null Count  Dtype \n",
            "---  ------          --------------  ----- \n",
            " 0   Text Processed  666 non-null    object\n",
            "dtypes: object(1)\n",
            "memory usage: 10.4+ KB\n"
          ],
          "name": "stdout"
        }
      ]
    },
    {
      "cell_type": "code",
      "metadata": {
        "id": "8BkUIHr31gsg",
        "colab_type": "code",
        "colab": {
          "base_uri": "https://localhost:8080/",
          "height": 244
        },
        "outputId": "a340c4e4-5488-428c-a7fb-439f03e0c6c4"
      },
      "source": [
        "pubs.describe()"
      ],
      "execution_count": 21,
      "outputs": [
        {
          "output_type": "execute_result",
          "data": {
            "text/html": [
              "<div>\n",
              "<style scoped>\n",
              "    .dataframe tbody tr th:only-of-type {\n",
              "        vertical-align: middle;\n",
              "    }\n",
              "\n",
              "    .dataframe tbody tr th {\n",
              "        vertical-align: top;\n",
              "    }\n",
              "\n",
              "    .dataframe thead th {\n",
              "        text-align: right;\n",
              "    }\n",
              "</style>\n",
              "<table border=\"1\" class=\"dataframe\">\n",
              "  <thead>\n",
              "    <tr style=\"text-align: right;\">\n",
              "      <th></th>\n",
              "      <th>Link</th>\n",
              "      <th>Text</th>\n",
              "      <th>Info</th>\n",
              "      <th>Abstract</th>\n",
              "      <th>Abstract Length</th>\n",
              "      <th>Title</th>\n",
              "      <th>Authors</th>\n",
              "      <th>Publisher</th>\n",
              "      <th>Date</th>\n",
              "      <th>Text Processed</th>\n",
              "    </tr>\n",
              "  </thead>\n",
              "  <tbody>\n",
              "    <tr>\n",
              "      <th>count</th>\n",
              "      <td>666</td>\n",
              "      <td>665</td>\n",
              "      <td>665</td>\n",
              "      <td>665</td>\n",
              "      <td>665</td>\n",
              "      <td>665</td>\n",
              "      <td>664</td>\n",
              "      <td>664</td>\n",
              "      <td>666</td>\n",
              "      <td>666</td>\n",
              "    </tr>\n",
              "    <tr>\n",
              "      <th>unique</th>\n",
              "      <td>666</td>\n",
              "      <td>656</td>\n",
              "      <td>663</td>\n",
              "      <td>634</td>\n",
              "      <td>515</td>\n",
              "      <td>651</td>\n",
              "      <td>506</td>\n",
              "      <td>514</td>\n",
              "      <td>470</td>\n",
              "      <td>655</td>\n",
              "    </tr>\n",
              "    <tr>\n",
              "      <th>top</th>\n",
              "      <td>http://ti.arc.nasa.gov/publications/5976/downl...</td>\n",
              "      <td>Requirements Flowdown for Prognostics and  \\n\\...</td>\n",
              "      <td>['\\n', 'Optimal Control Modification Adaptive ...</td>\n",
              "      <td>error</td>\n",
              "      <td>5</td>\n",
              "      <td>Slicing and Dicing Bugs in Concurrent Programs</td>\n",
              "      <td>Nhan Nguyen</td>\n",
              "      <td>Published at: Conference: Annual Conference of...</td>\n",
              "      <td>04/20/10</td>\n",
              "      <td></td>\n",
              "    </tr>\n",
              "    <tr>\n",
              "      <th>freq</th>\n",
              "      <td>1</td>\n",
              "      <td>3</td>\n",
              "      <td>2</td>\n",
              "      <td>13</td>\n",
              "      <td>14</td>\n",
              "      <td>2</td>\n",
              "      <td>19</td>\n",
              "      <td>9</td>\n",
              "      <td>11</td>\n",
              "      <td>4</td>\n",
              "    </tr>\n",
              "  </tbody>\n",
              "</table>\n",
              "</div>"
            ],
            "text/plain": [
              "                                                     Link  ... Text Processed\n",
              "count                                                 666  ...            666\n",
              "unique                                                666  ...            655\n",
              "top     http://ti.arc.nasa.gov/publications/5976/downl...  ...               \n",
              "freq                                                    1  ...              4\n",
              "\n",
              "[4 rows x 10 columns]"
            ]
          },
          "metadata": {
            "tags": []
          },
          "execution_count": 21
        }
      ]
    },
    {
      "cell_type": "code",
      "metadata": {
        "id": "DIKZeKCm1i4Y",
        "colab_type": "code",
        "colab": {
          "base_uri": "https://localhost:8080/",
          "height": 455
        },
        "outputId": "4a1ba407-0717-4097-8fb3-0f44149b3ac4"
      },
      "source": [
        "text_df.head(666)"
      ],
      "execution_count": 12,
      "outputs": [
        {
          "output_type": "execute_result",
          "data": {
            "text/html": [
              "<div>\n",
              "<style scoped>\n",
              "    .dataframe tbody tr th:only-of-type {\n",
              "        vertical-align: middle;\n",
              "    }\n",
              "\n",
              "    .dataframe tbody tr th {\n",
              "        vertical-align: top;\n",
              "    }\n",
              "\n",
              "    .dataframe thead th {\n",
              "        text-align: right;\n",
              "    }\n",
              "</style>\n",
              "<table border=\"1\" class=\"dataframe\">\n",
              "  <thead>\n",
              "    <tr style=\"text-align: right;\">\n",
              "      <th></th>\n",
              "      <th>Text Processed</th>\n",
              "    </tr>\n",
              "    <tr>\n",
              "      <th>Index</th>\n",
              "      <th></th>\n",
              "    </tr>\n",
              "  </thead>\n",
              "  <tbody>\n",
              "    <tr>\n",
              "      <th>0</th>\n",
              "      <td>Adaptive Stress Testing of Trajectory Predicti...</td>\n",
              "    </tr>\n",
              "    <tr>\n",
              "      <th>1</th>\n",
              "      <td>Capturing Analyzing Requirements with FRET Dim...</td>\n",
              "    </tr>\n",
              "    <tr>\n",
              "      <th>3</th>\n",
              "      <td>The Ten Lockheed Martin Cyber Physical Challen...</td>\n",
              "    </tr>\n",
              "    <tr>\n",
              "      <th>4</th>\n",
              "      <td>Generation of Formal Requirements from Structu...</td>\n",
              "    </tr>\n",
              "    <tr>\n",
              "      <th>5</th>\n",
              "      <td>Formal Requirements Elicitation with FRET Dimi...</td>\n",
              "    </tr>\n",
              "    <tr>\n",
              "      <th>...</th>\n",
              "      <td>...</td>\n",
              "    </tr>\n",
              "    <tr>\n",
              "      <th>669</th>\n",
              "      <td>A Flexible Evolvable Architecture for Constell...</td>\n",
              "    </tr>\n",
              "    <tr>\n",
              "      <th>670</th>\n",
              "      <td>Extended Abstract General Purpose Data Driven ...</td>\n",
              "    </tr>\n",
              "    <tr>\n",
              "      <th>671</th>\n",
              "      <td>PARAMETRIC ANALYSIS OF HOVER TEST VEHICLE USI...</td>\n",
              "    </tr>\n",
              "    <tr>\n",
              "      <th>672</th>\n",
              "      <td>Bringing Web to Government Research Case Stud...</td>\n",
              "    </tr>\n",
              "    <tr>\n",
              "      <th>673</th>\n",
              "      <td>Online Detection and Modeling of Safety Bounda...</td>\n",
              "    </tr>\n",
              "  </tbody>\n",
              "</table>\n",
              "<p>666 rows × 1 columns</p>\n",
              "</div>"
            ],
            "text/plain": [
              "                                          Text Processed\n",
              "Index                                                   \n",
              "0      Adaptive Stress Testing of Trajectory Predicti...\n",
              "1      Capturing Analyzing Requirements with FRET Dim...\n",
              "3      The Ten Lockheed Martin Cyber Physical Challen...\n",
              "4      Generation of Formal Requirements from Structu...\n",
              "5      Formal Requirements Elicitation with FRET Dimi...\n",
              "...                                                  ...\n",
              "669    A Flexible Evolvable Architecture for Constell...\n",
              "670    Extended Abstract General Purpose Data Driven ...\n",
              "671     PARAMETRIC ANALYSIS OF HOVER TEST VEHICLE USI...\n",
              "672     Bringing Web to Government Research Case Stud...\n",
              "673    Online Detection and Modeling of Safety Bounda...\n",
              "\n",
              "[666 rows x 1 columns]"
            ]
          },
          "metadata": {
            "tags": []
          },
          "execution_count": 12
        }
      ]
    },
    {
      "cell_type": "code",
      "metadata": {
        "id": "2GKxACgy5UP9",
        "colab_type": "code",
        "colab": {
          "base_uri": "https://localhost:8080/",
          "height": 243
        },
        "outputId": "b48d0642-e743-4b0c-c6d1-40f01d0955ea"
      },
      "source": [
        "text_df.duplicated()"
      ],
      "execution_count": 13,
      "outputs": [
        {
          "output_type": "execute_result",
          "data": {
            "text/plain": [
              "Index\n",
              "0      False\n",
              "1      False\n",
              "3      False\n",
              "4      False\n",
              "5      False\n",
              "       ...  \n",
              "669    False\n",
              "670    False\n",
              "671    False\n",
              "672    False\n",
              "673    False\n",
              "Length: 666, dtype: bool"
            ]
          },
          "metadata": {
            "tags": []
          },
          "execution_count": 13
        }
      ]
    },
    {
      "cell_type": "code",
      "metadata": {
        "id": "1ERNhY0p5qX_",
        "colab_type": "code",
        "colab": {
          "base_uri": "https://localhost:8080/",
          "height": 81
        },
        "outputId": "dc20f3ba-1739-40e4-f01d-b9ebf8f781e5"
      },
      "source": [
        "pubs[pubs.duplicated() == True]"
      ],
      "execution_count": 16,
      "outputs": [
        {
          "output_type": "execute_result",
          "data": {
            "text/html": [
              "<div>\n",
              "<style scoped>\n",
              "    .dataframe tbody tr th:only-of-type {\n",
              "        vertical-align: middle;\n",
              "    }\n",
              "\n",
              "    .dataframe tbody tr th {\n",
              "        vertical-align: top;\n",
              "    }\n",
              "\n",
              "    .dataframe thead th {\n",
              "        text-align: right;\n",
              "    }\n",
              "</style>\n",
              "<table border=\"1\" class=\"dataframe\">\n",
              "  <thead>\n",
              "    <tr style=\"text-align: right;\">\n",
              "      <th></th>\n",
              "      <th>Link</th>\n",
              "      <th>Text</th>\n",
              "      <th>Info</th>\n",
              "      <th>Abstract</th>\n",
              "      <th>Abstract Length</th>\n",
              "      <th>Title</th>\n",
              "      <th>Authors</th>\n",
              "      <th>Publisher</th>\n",
              "      <th>Date</th>\n",
              "      <th>Text Processed</th>\n",
              "    </tr>\n",
              "    <tr>\n",
              "      <th>Index</th>\n",
              "      <th></th>\n",
              "      <th></th>\n",
              "      <th></th>\n",
              "      <th></th>\n",
              "      <th></th>\n",
              "      <th></th>\n",
              "      <th></th>\n",
              "      <th></th>\n",
              "      <th></th>\n",
              "      <th></th>\n",
              "    </tr>\n",
              "  </thead>\n",
              "  <tbody>\n",
              "  </tbody>\n",
              "</table>\n",
              "</div>"
            ],
            "text/plain": [
              "Empty DataFrame\n",
              "Columns: [Link, Text, Info, Abstract, Abstract Length, Title, Authors, Publisher, Date, Text Processed]\n",
              "Index: []"
            ]
          },
          "metadata": {
            "tags": []
          },
          "execution_count": 16
        }
      ]
    },
    {
      "cell_type": "code",
      "metadata": {
        "id": "Ihvdf-zF6C5i",
        "colab_type": "code",
        "colab": {}
      },
      "source": [
        ""
      ],
      "execution_count": null,
      "outputs": []
    }
  ]
}